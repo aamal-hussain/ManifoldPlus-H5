{
 "cells": [
  {
   "cell_type": "code",
   "execution_count": 20,
   "metadata": {},
   "outputs": [],
   "source": [
    "import h5py\n",
    "import pyvista as pv\n",
    "import numpy as np\n",
    "\n",
    "import os\n",
    "pv.start_xvfb()"
   ]
  },
  {
   "cell_type": "code",
   "execution_count": 21,
   "metadata": {},
   "outputs": [],
   "source": [
    "DATA_PATH = \"/mnt/storage01/workspace/research/lethe/02_training_datasets/shapenet_50k_manifold_core/test/\""
   ]
  },
  {
   "cell_type": "code",
   "execution_count": 22,
   "metadata": {},
   "outputs": [],
   "source": [
    "import random\n",
    "\n",
    "shapes = os.listdir(DATA_PATH)\n",
    "random.shuffle(shapes)\n",
    "\n",
    "for shape in shapes[:10]:\n",
    "    with h5py.File(DATA_PATH + shape, 'r') as f:\n",
    "        vertices = f['mesh.verts'][()]\n",
    "        faces = f['mesh.faces'][()]\n",
    "        \n",
    "        p = pv.Plotter()\n",
    "        mesh = pv.PolyData.from_regular_faces(vertices, faces)\n",
    "        p.add_mesh(mesh, show_edges=True)\n",
    "        p.screenshot(f\"{shape}.png\")\n",
    "        "
   ]
  },
  {
   "cell_type": "code",
   "execution_count": 24,
   "metadata": {},
   "outputs": [
    {
     "data": {
      "text/plain": [
       "1"
      ]
     },
     "execution_count": 24,
     "metadata": {},
     "output_type": "execute_result"
    }
   ],
   "source": [
    "with h5py.File(DATA_PATH + '998f600899c76e4583653a771e25099b.h5', 'r') as f:\n",
    "        vertices = f['mesh.verts'][()]\n",
    "        faces = f['mesh.faces'][()]\n",
    "        \n",
    "        mesh = pv.PolyData.from_regular_faces(vertices, faces)\n",
    "\n",
    "\n",
    "len(mesh.split_bodies())"
   ]
  }
 ],
 "metadata": {
  "kernelspec": {
   "display_name": "lethe",
   "language": "python",
   "name": "python3"
  },
  "language_info": {
   "codemirror_mode": {
    "name": "ipython",
    "version": 3
   },
   "file_extension": ".py",
   "mimetype": "text/x-python",
   "name": "python",
   "nbconvert_exporter": "python",
   "pygments_lexer": "ipython3",
   "version": "3.10.15"
  }
 },
 "nbformat": 4,
 "nbformat_minor": 2
}
